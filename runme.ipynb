{
  "nbformat": 4,
  "nbformat_minor": 0,
  "metadata": {
    "colab": {
      "name": "runme.ipynb",
      "provenance": [],
      "authorship_tag": "ABX9TyN6BXQItWyyp6x/Vv8vf1wv"
    },
    "kernelspec": {
      "name": "python3",
      "display_name": "Python 3"
    },
    "language_info": {
      "name": "python"
    }
  },
  "cells": [
    {
      "cell_type": "code",
      "metadata": {
        "colab": {
          "base_uri": "https://localhost:8080/"
        },
        "id": "gMym5uyJ7HnT",
        "outputId": "448f32f1-9917-4d3a-d54f-a5546f7ef4b5"
      },
      "source": [
        "!git clone https://github.com/jstyrud/WASP-CBSS-BT.git\n"
      ],
      "execution_count": 2,
      "outputs": [
        {
          "output_type": "stream",
          "text": [
            "Cloning into 'WASP-CBSS-BT'...\n",
            "remote: Enumerating objects: 10, done.\u001b[K\n",
            "remote: Counting objects: 100% (10/10), done.\u001b[K\n",
            "remote: Compressing objects: 100% (8/8), done.\u001b[K\n",
            "remote: Total 10 (delta 2), reused 0 (delta 0), pack-reused 0\u001b[K\n",
            "Unpacking objects: 100% (10/10), done.\n"
          ],
          "name": "stdout"
        }
      ]
    },
    {
      "cell_type": "code",
      "metadata": {
        "id": "ent50sR77taY"
      },
      "source": [
        "import sys\n",
        "sys.path.insert(0,'/content/WASP-CBSS-BT')"
      ],
      "execution_count": 4,
      "outputs": []
    },
    {
      "cell_type": "code",
      "metadata": {
        "id": "AFDR9VQH7jyx"
      },
      "source": [
        "from add2 import add"
      ],
      "execution_count": 5,
      "outputs": []
    },
    {
      "cell_type": "code",
      "metadata": {
        "colab": {
          "base_uri": "https://localhost:8080/"
        },
        "id": "-nD8tQtQ6i4W",
        "outputId": "39bb1f30-8ddf-405b-b9b7-33d5791397a6"
      },
      "source": [
        "number = 2\n",
        "\n",
        "number = number + 2\n",
        "\n",
        "print(number)\n",
        "print(add(number))\n"
      ],
      "execution_count": 7,
      "outputs": [
        {
          "output_type": "stream",
          "text": [
            "4\n",
            "6\n"
          ],
          "name": "stdout"
        }
      ]
    }
  ]
}