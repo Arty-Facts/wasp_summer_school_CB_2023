{
  "nbformat": 4,
  "nbformat_minor": 0,
  "metadata": {
    "colab": {
      "name": "runme.ipynb",
      "provenance": []
    },
    "interpreter": {
      "hash": "31f2aee4e71d21fbe5cf8b01ff0e069b9275f58929596ceb00d14d90e3e16cd6"
    },
    "kernelspec": {
      "display_name": "Python 3.6.9 64-bit",
      "name": "python3"
    },
    "language_info": {
      "name": "python",
      "version": ""
    }
  },
  "cells": [
    {
      "cell_type": "markdown",
      "metadata": {
        "id": "dzoOAZei0_03"
      },
      "source": [
        "# **WASP Summer School**\n",
        "## Behavior Tree Challenge"
      ]
    },
    {
      "cell_type": "markdown",
      "metadata": {
        "id": "tHsnYpdP1cxu"
      },
      "source": [
        "## Install the code repository and the used packages."
      ]
    },
    {
      "cell_type": "code",
      "metadata": {
        "id": "6X4gCBhrcIQe"
      },
      "source": [
        "#!apt-get update #If apt install fails, run this"
      ],
      "execution_count": 1,
      "outputs": []
    },
    {
      "cell_type": "code",
      "metadata": {
        "id": "gMym5uyJ7HnT"
      },
      "source": [
        "#Make sure all code is available\n",
        "!rm -r WASP-CBSS-BT/\n",
        "!git clone https://github.com/jstyrud/WASP-CBSS-BT.git\n",
        "!pip install celluloid\n",
        "!apt install imagemagick"
      ],
      "execution_count": null,
      "outputs": []
    },
    {
      "cell_type": "markdown",
      "metadata": {
        "id": "5P8qLYsY1uEl"
      },
      "source": [
        "## Import the modules.\n",
        "\n",
        "*Note that if you are not running the notebook on Colab, the paths might differ.*  \n",
        "*In such a case run the following command on a shell to output the content of the current working directory.*  \n",
        "```bash\n",
        "!ls\n",
        "```"
      ]
    },
    {
      "cell_type": "code",
      "metadata": {
        "id": "ent50sR77taY"
      },
      "source": [
        "#Setup paths and imports\n",
        "import sys\n",
        "sys.path.insert(0,'/content/WASP-CBSS-BT')\n",
        "from IPython.display import Image\n",
        "import simulation.notebook_interface as notebook_interface\n",
        "import simulation.behavior_tree as behavior_tree\n",
        "behavior_tree.load_settings_from_file('/content/WASP-CBSS-BT/simulation/tests/BT_TEST_SETTINGS.yaml')\n",
        "from IPython.core.interactiveshell import InteractiveShell\n",
        "InteractiveShell.ast_node_interactivity = \"all\"\n",
        "from pathlib import Path"
      ],
      "execution_count": 3,
      "outputs": []
    },
    {
      "cell_type": "markdown",
      "metadata": {
        "id": "dxAL8BbL16dq"
      },
      "source": [
        "## Build your own Behavior Tree and test it!"
      ]
    },
    {
      "cell_type": "code",
      "metadata": {
        "id": "7cIqwL7YfYpt"
      },
      "source": [
        "#Setup individual and show it\n",
        "individual = ['s(', 'f(', 'carried weight < 5?', \\\n",
        "                          's(', 'move to CHARGE1', 'charge!', ')', ')', \\\n",
        "                    'f(', 'conveyor light < 1?', 's(', 'move to CONVEYOR_LIGHT!', 'idle!', ')']\n",
        "\n",
        "environment = notebook_interface.Environment(seed=0, verbose=False)\n",
        "environment.plot_individual('', 'behavior_tree', individual)\n",
        "\n",
        "Image('behavior_tree.png')  "
      ],
      "execution_count": null,
      "outputs": []
    },
    {
      "cell_type": "code",
      "metadata": {
        "id": "bzAQEFD1k85X"
      },
      "source": [
        "#Run individual and print result (takes a lot less time with show_world=False)\n",
        "print(\"Fitness:\", environment.get_fitness(individual, show_world=True)) "
      ],
      "execution_count": null,
      "outputs": []
    },
    {
      "cell_type": "code",
      "metadata": {
        "id": "wWiLlO4jdwcH"
      },
      "source": [
        "#Animate the last run (that had show_world=True)\n",
        "gifPath = Path(\"/content/animation.gif\")\n",
        "# Display GIF in Jupyter, CoLab, IPython\n",
        "with open(gifPath,'rb') as f:\n",
        "    Image(data=f.read(), format='png')"
      ],
      "execution_count": null,
      "outputs": []
    },
    {
      "cell_type": "code",
      "metadata": {
        "id": "kOctCVRwZbD1"
      },
      "source": [
        "#Step the run instead, first reset the environment\n",
        "step_environment = notebook_interface.Environment(seed=0, verbose=False)"
      ],
      "execution_count": 7,
      "outputs": []
    },
    {
      "cell_type": "code",
      "metadata": {
        "id": "JYI8lh2pZskV"
      },
      "source": [
        "#Step the run one step.\n",
        "#Execute the cell again to step forward.\n",
        "#Color coding of states:\n",
        "#green  = success\n",
        "#red    = failure\n",
        "#yellow = running\n",
        "#gray   = not ticked\n",
        "number_of_steps = 1 #Change this to step more than once\n",
        "for _ in range(number_of_steps):\n",
        "    step_environment.step(individual, show_world=True)\n",
        "    step_environment.pytree.save_fig('','behavior_tree', static=False)\n",
        "    \n",
        "    with open(Path(\"/content/behavior_tree.png\"),'rb') as f:\n",
        "      Image(data=f.read(), format='png')"
      ],
      "execution_count": null,
      "outputs": []
    }
  ]
}