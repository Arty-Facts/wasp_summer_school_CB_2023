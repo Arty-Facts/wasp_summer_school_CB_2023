{
  "nbformat": 4,
  "nbformat_minor": 0,
  "metadata": {
    "colab": {
      "name": "runme.ipynb",
      "provenance": [],
      "authorship_tag": "ABX9TyMgUVIDqVFKKKwTLPtP06Ck"
    },
    "kernelspec": {
      "name": "python3",
      "display_name": "Python 3"
    },
    "language_info": {
      "name": "python"
    }
  },
  "cells": [
    {
      "cell_type": "code",
      "metadata": {
        "id": "-nD8tQtQ6i4W"
      },
      "source": [
        "number = 2\n",
        "\n",
        "number = number + 2"
      ],
      "execution_count": 1,
      "outputs": []
    }
  ]
}