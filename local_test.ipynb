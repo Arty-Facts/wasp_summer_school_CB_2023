{
 "cells": [
  {
   "cell_type": "code",
   "execution_count": 5,
   "metadata": {},
   "outputs": [
    {
     "data": {
      "text/plain": [
       "<Figure size 432x288 with 0 Axes>"
      ]
     },
     "metadata": {},
     "output_type": "display_data"
    },
    {
     "data": {
      "text/plain": [
       "<Figure size 432x288 with 0 Axes>"
      ]
     },
     "metadata": {},
     "output_type": "display_data"
    },
    {
     "data": {
      "text/plain": [
       "<Figure size 432x288 with 0 Axes>"
      ]
     },
     "metadata": {},
     "output_type": "display_data"
    },
    {
     "data": {
      "text/plain": [
       "<Figure size 432x288 with 0 Axes>"
      ]
     },
     "metadata": {},
     "output_type": "display_data"
    },
    {
     "data": {
      "image/png": "[encoded data removed]",
      "text/plain": [
       "<Figure size 432x288 with 1 Axes>"
      ]
     },
     "metadata": {
      "needs_background": "light"
     },
     "output_type": "display_data"
    }
   ],
   "source": [
    "import UI.draw_world as ui\n",
    "import matplotlib.pyplot as plt\n",
    "\n",
    "world = ui.WorldUI()\n",
    "world.add_items(2, 3)\n",
    "_, ax = world.get_figure()\n",
    "ax.plot()\n",
    "plt.show()\n",
    "\n",
    "world.add_items(2, 3)\n",
    "world.add_robot((12,12))\n",
    "_, ax = world.get_figure()\n",
    "ax.plot()\n",
    "plt.show()\n",
    "\n",
    "world.reset_world()\n",
    "_, ax = world.get_figure()\n",
    "ax.plot()\n",
    "plt.show()\n",
    "\n",
    "state = ui.WorldSatate((23,12), 7, 4)\n",
    "world.add_state(state)\n",
    "world.print_world()"
   ]
  },
  {
   "cell_type": "code",
   "execution_count": null,
   "metadata": {},
   "outputs": [],
   "source": []
  }
 ],
 "metadata": {
  "kernelspec": {
   "display_name": "Python 3",
   "language": "python",
   "name": "python3"
  },
  "language_info": {
   "codemirror_mode": {
    "name": "ipython",
    "version": 3
   },
   "file_extension": ".py",
   "mimetype": "text/x-python",
   "name": "python",
   "nbconvert_exporter": "python",
   "pygments_lexer": "ipython3",
   "version": "3.6.9"
  }
 },
 "nbformat": 4,
 "nbformat_minor": 2
}
